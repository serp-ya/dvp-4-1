{
 "cells": [
  {
   "cell_type": "code",
   "execution_count": 703,
   "metadata": {},
   "outputs": [],
   "source": [
    "%matplotlib inline\n",
    "\n",
    "import numpy as np\n",
    "import pandas as pd\n",
    "import matplotlib.pyplot as plt\n",
    "\n",
    "from sklearn.linear_model import LinearRegression"
   ]
  },
  {
   "cell_type": "code",
   "execution_count": 2,
   "metadata": {},
   "outputs": [
    {
     "data": {
      "text/html": [
       "<div>\n",
       "<style scoped>\n",
       "    .dataframe tbody tr th:only-of-type {\n",
       "        vertical-align: middle;\n",
       "    }\n",
       "\n",
       "    .dataframe tbody tr th {\n",
       "        vertical-align: top;\n",
       "    }\n",
       "\n",
       "    .dataframe thead th {\n",
       "        text-align: right;\n",
       "    }\n",
       "</style>\n",
       "<table border=\"1\" class=\"dataframe\">\n",
       "  <thead>\n",
       "    <tr style=\"text-align: right;\">\n",
       "      <th></th>\n",
       "      <th>age_owner</th>\n",
       "      <th>length</th>\n",
       "      <th>width</th>\n",
       "      <th>price</th>\n",
       "    </tr>\n",
       "  </thead>\n",
       "  <tbody>\n",
       "    <tr>\n",
       "      <td>0</td>\n",
       "      <td>84</td>\n",
       "      <td>86</td>\n",
       "      <td>26</td>\n",
       "      <td>223600</td>\n",
       "    </tr>\n",
       "    <tr>\n",
       "      <td>1</td>\n",
       "      <td>79</td>\n",
       "      <td>102</td>\n",
       "      <td>55</td>\n",
       "      <td>561000</td>\n",
       "    </tr>\n",
       "    <tr>\n",
       "      <td>2</td>\n",
       "      <td>61</td>\n",
       "      <td>50</td>\n",
       "      <td>26</td>\n",
       "      <td>130000</td>\n",
       "    </tr>\n",
       "    <tr>\n",
       "      <td>3</td>\n",
       "      <td>92</td>\n",
       "      <td>89</td>\n",
       "      <td>35</td>\n",
       "      <td>311500</td>\n",
       "    </tr>\n",
       "    <tr>\n",
       "      <td>4</td>\n",
       "      <td>24</td>\n",
       "      <td>23</td>\n",
       "      <td>22</td>\n",
       "      <td>50600</td>\n",
       "    </tr>\n",
       "  </tbody>\n",
       "</table>\n",
       "</div>"
      ],
      "text/plain": [
       "   age_owner  length  width   price\n",
       "0         84      86     26  223600\n",
       "1         79     102     55  561000\n",
       "2         61      50     26  130000\n",
       "3         92      89     35  311500\n",
       "4         24      23     22   50600"
      ]
     },
     "execution_count": 2,
     "metadata": {},
     "output_type": "execute_result"
    }
   ],
   "source": [
    "# Создаём сэмпл\n",
    "n_samples = 500\n",
    "\n",
    "age_owner = np.random.choice(90, n_samples) + 21\n",
    "length = np.random.choice(120, n_samples) + 15\n",
    "width = np.random.choice(80, n_samples) + 10\n",
    "\n",
    "price = length * width * 100\n",
    "\n",
    "data = pd.DataFrame({'age_owner': age_owner, 'length': length, 'width': width, 'price': price})\n",
    "data.head(5)"
   ]
  },
  {
   "cell_type": "code",
   "execution_count": 3,
   "metadata": {},
   "outputs": [
    {
     "name": "stdout",
     "output_type": "stream",
     "text": [
      "Weights: [  42.31450626 5087.5079697  7628.26425767]\n",
      "Bias: -398842.80358612054\n",
      "Error: 62410.25186220825\n"
     ]
    }
   ],
   "source": [
    "from sklearn.metrics import mean_absolute_error\n",
    "\n",
    "X = data[['age_owner', 'length', 'width']]\n",
    "y = data['price']\n",
    "reg = LinearRegression().fit(X, y)\n",
    "print('Weights: {}'.format(reg.coef_))\n",
    "print('Bias: {}'.format(reg.intercept_))\n",
    "\n",
    "pred_values = reg.predict(data[['age_owner', 'length', 'width']])\n",
    "print('Error: {}'.format(mean_absolute_error(pred_values, y)))"
   ]
  },
  {
   "cell_type": "code",
   "execution_count": 4,
   "metadata": {},
   "outputs": [
    {
     "name": "stdout",
     "output_type": "stream",
     "text": [
      "Weights: [5087.07053681 7627.44458801]\n",
      "Bias: -396028.3109080869\n",
      "Error: 62504.45918422268\n"
     ]
    }
   ],
   "source": [
    "X = data[['length', 'width']]\n",
    "y = data['price']\n",
    "reg = LinearRegression().fit(X, y)\n",
    "print('Weights: {}'.format(reg.coef_))\n",
    "print('Bias: {}'.format(reg.intercept_))\n",
    "\n",
    "pred_values = reg.predict(data[['length', 'width']])\n",
    "print('Error: {}'.format(mean_absolute_error(pred_values, y)))"
   ]
  },
  {
   "cell_type": "code",
   "execution_count": 5,
   "metadata": {},
   "outputs": [
    {
     "data": {
      "text/html": [
       "<div>\n",
       "<style scoped>\n",
       "    .dataframe tbody tr th:only-of-type {\n",
       "        vertical-align: middle;\n",
       "    }\n",
       "\n",
       "    .dataframe tbody tr th {\n",
       "        vertical-align: top;\n",
       "    }\n",
       "\n",
       "    .dataframe thead th {\n",
       "        text-align: right;\n",
       "    }\n",
       "</style>\n",
       "<table border=\"1\" class=\"dataframe\">\n",
       "  <thead>\n",
       "    <tr style=\"text-align: right;\">\n",
       "      <th></th>\n",
       "      <th>age_owner</th>\n",
       "      <th>length</th>\n",
       "      <th>width</th>\n",
       "      <th>price</th>\n",
       "      <th>mult</th>\n",
       "    </tr>\n",
       "  </thead>\n",
       "  <tbody>\n",
       "    <tr>\n",
       "      <td>0</td>\n",
       "      <td>84</td>\n",
       "      <td>86</td>\n",
       "      <td>26</td>\n",
       "      <td>223600</td>\n",
       "      <td>2236</td>\n",
       "    </tr>\n",
       "    <tr>\n",
       "      <td>1</td>\n",
       "      <td>79</td>\n",
       "      <td>102</td>\n",
       "      <td>55</td>\n",
       "      <td>561000</td>\n",
       "      <td>5610</td>\n",
       "    </tr>\n",
       "    <tr>\n",
       "      <td>2</td>\n",
       "      <td>61</td>\n",
       "      <td>50</td>\n",
       "      <td>26</td>\n",
       "      <td>130000</td>\n",
       "      <td>1300</td>\n",
       "    </tr>\n",
       "    <tr>\n",
       "      <td>3</td>\n",
       "      <td>92</td>\n",
       "      <td>89</td>\n",
       "      <td>35</td>\n",
       "      <td>311500</td>\n",
       "      <td>3115</td>\n",
       "    </tr>\n",
       "    <tr>\n",
       "      <td>4</td>\n",
       "      <td>24</td>\n",
       "      <td>23</td>\n",
       "      <td>22</td>\n",
       "      <td>50600</td>\n",
       "      <td>506</td>\n",
       "    </tr>\n",
       "  </tbody>\n",
       "</table>\n",
       "</div>"
      ],
      "text/plain": [
       "   age_owner  length  width   price  mult\n",
       "0         84      86     26  223600  2236\n",
       "1         79     102     55  561000  5610\n",
       "2         61      50     26  130000  1300\n",
       "3         92      89     35  311500  3115\n",
       "4         24      23     22   50600   506"
      ]
     },
     "execution_count": 5,
     "metadata": {},
     "output_type": "execute_result"
    }
   ],
   "source": [
    "# Создаем новый признак\n",
    "data['mult'] = data['length'] * data['width']\n",
    "data.head(5)"
   ]
  },
  {
   "cell_type": "code",
   "execution_count": 6,
   "metadata": {},
   "outputs": [
    {
     "name": "stdout",
     "output_type": "stream",
     "text": [
      "Weights: [100.]\n",
      "Bias: -1.7462298274040222e-10\n",
      "Error: 9.094219421967864e-11\n"
     ]
    }
   ],
   "source": [
    "X = data[['mult']]\n",
    "y = data['price']\n",
    "reg = LinearRegression().fit(X, y)\n",
    "print('Weights: {}'.format(reg.coef_))\n",
    "print('Bias: {}'.format(reg.intercept_))\n",
    "\n",
    "pred_values = reg.predict(data[['mult']])\n",
    "print('Error: {}'.format(mean_absolute_error(pred_values, y)))"
   ]
  },
  {
   "cell_type": "markdown",
   "metadata": {},
   "source": [
    "# HOMEWORK"
   ]
  },
  {
   "cell_type": "markdown",
   "metadata": {},
   "source": [
    "Мне нужно придумать датасет, сгенерировать в него рандомные данные, при этом запланировать какие-то зависимости. Так же, какие-то столбцы данных должны быть лишними, портящими модель.\n",
    "\n",
    "Так как много данных - это хорошо, то мой датасет будет состоять из 10 тысяч записей. Пусть это будут записи о посетителях контактного зоопарка, некоторые из которых были съедены тиграми (почему бы и нет).\n",
    "\n",
    "Для этого я создам датафрейм, содержащий информацию о туристах:\n",
    "- пол - f(emale)/m(ale);\n",
    "- был ли он в том году на море - y/n;\n",
    "- был ли съеден львом - y/n;\n",
    "- цвет его обуви - black, red, green, white, orange;\n",
    "- возраст - 3-90;\n",
    "- вес - 10kg-150kg;\n",
    "- рост - 50sm-220sm;\n",
    "- счёт в банке - 1000\\\\$-1000000\\\\$;\n",
    "\n",
    "Основная моя гипотеза вероятности поедания туриста тигром заключается в габаритах туриста, ведь можно предположить, что они казались более аппетитными для тигров и более достижимыми, т.к. медленнее бегают."
   ]
  },
  {
   "cell_type": "code",
   "execution_count": 924,
   "metadata": {},
   "outputs": [],
   "source": [
    "MALE = 'm'\n",
    "FEMALE = 'f'\n",
    "YES = 'y'\n",
    "NO = 'n'\n",
    "\n",
    "samples_count = 10000\n",
    "\n",
    "# sex больше MALE\n",
    "sex = [FEMALE if i > 1 else MALE for i in np.random.choice(3, samples_count)]\n",
    "\n",
    "# prev_year_vac_sea больше NO\n",
    "prev_year_vac_sea = [YES if i < 1 else NO for i in np.random.choice(5, samples_count)]\n",
    "\n",
    "# is_dinner больше NO\n",
    "is_dinner = [YES if i < 1 else NO for i in np.random.choice(50, samples_count)]\n",
    "\n",
    "shoes_colors = ['black', 'red', 'green', 'white', 'orange']\n",
    "shoes_color = [shoes_colors[i] for i in np.random.choice(5, samples_count)]\n",
    "\n",
    "age = np.random.choice(88, samples_count) + 3\n",
    "weight = np.random.choice(141, samples_count) + 10\n",
    "height = np.random.choice(171, samples_count) + 50\n",
    "bank_account = np.random.choice(999001, samples_count) + 1000"
   ]
  },
  {
   "cell_type": "code",
   "execution_count": 925,
   "metadata": {},
   "outputs": [
    {
     "data": {
      "text/html": [
       "<div>\n",
       "<style scoped>\n",
       "    .dataframe tbody tr th:only-of-type {\n",
       "        vertical-align: middle;\n",
       "    }\n",
       "\n",
       "    .dataframe tbody tr th {\n",
       "        vertical-align: top;\n",
       "    }\n",
       "\n",
       "    .dataframe thead th {\n",
       "        text-align: right;\n",
       "    }\n",
       "</style>\n",
       "<table border=\"1\" class=\"dataframe\">\n",
       "  <thead>\n",
       "    <tr style=\"text-align: right;\">\n",
       "      <th></th>\n",
       "      <th>age</th>\n",
       "      <th>weight</th>\n",
       "      <th>height</th>\n",
       "      <th>sex</th>\n",
       "      <th>bank_account</th>\n",
       "      <th>shoes_color</th>\n",
       "      <th>prev_year_vac_sea</th>\n",
       "      <th>is_dinner</th>\n",
       "    </tr>\n",
       "  </thead>\n",
       "  <tbody>\n",
       "    <tr>\n",
       "      <td>0</td>\n",
       "      <td>80</td>\n",
       "      <td>74</td>\n",
       "      <td>178</td>\n",
       "      <td>m</td>\n",
       "      <td>868868</td>\n",
       "      <td>green</td>\n",
       "      <td>n</td>\n",
       "      <td>n</td>\n",
       "    </tr>\n",
       "    <tr>\n",
       "      <td>1</td>\n",
       "      <td>10</td>\n",
       "      <td>30</td>\n",
       "      <td>122</td>\n",
       "      <td>f</td>\n",
       "      <td>18132</td>\n",
       "      <td>orange</td>\n",
       "      <td>y</td>\n",
       "      <td>n</td>\n",
       "    </tr>\n",
       "    <tr>\n",
       "      <td>2</td>\n",
       "      <td>41</td>\n",
       "      <td>33</td>\n",
       "      <td>171</td>\n",
       "      <td>f</td>\n",
       "      <td>785135</td>\n",
       "      <td>black</td>\n",
       "      <td>n</td>\n",
       "      <td>n</td>\n",
       "    </tr>\n",
       "    <tr>\n",
       "      <td>3</td>\n",
       "      <td>54</td>\n",
       "      <td>73</td>\n",
       "      <td>80</td>\n",
       "      <td>m</td>\n",
       "      <td>223219</td>\n",
       "      <td>white</td>\n",
       "      <td>n</td>\n",
       "      <td>y</td>\n",
       "    </tr>\n",
       "    <tr>\n",
       "      <td>4</td>\n",
       "      <td>16</td>\n",
       "      <td>62</td>\n",
       "      <td>59</td>\n",
       "      <td>f</td>\n",
       "      <td>228832</td>\n",
       "      <td>black</td>\n",
       "      <td>n</td>\n",
       "      <td>n</td>\n",
       "    </tr>\n",
       "  </tbody>\n",
       "</table>\n",
       "</div>"
      ],
      "text/plain": [
       "   age  weight  height sex  bank_account shoes_color prev_year_vac_sea  \\\n",
       "0   80      74     178   m        868868       green                 n   \n",
       "1   10      30     122   f         18132      orange                 y   \n",
       "2   41      33     171   f        785135       black                 n   \n",
       "3   54      73      80   m        223219       white                 n   \n",
       "4   16      62      59   f        228832       black                 n   \n",
       "\n",
       "  is_dinner  \n",
       "0         n  \n",
       "1         n  \n",
       "2         n  \n",
       "3         y  \n",
       "4         n  "
      ]
     },
     "execution_count": 925,
     "metadata": {},
     "output_type": "execute_result"
    }
   ],
   "source": [
    "target_label = 'is_dinner'\n",
    "labels = ['age', 'weight', 'height', 'sex', 'bank_account', 'shoes_color', 'prev_year_vac_sea']\n",
    "all_labels = [*labels, target_label]\n",
    "data = [age, weight, height, sex, bank_account, shoes_color, prev_year_vac_sea, is_dinner]\n",
    "\n",
    "df = pd.DataFrame(\n",
    "    data=dict(zip(all_labels, data)),\n",
    ")\n",
    "\n",
    "df.head()"
   ]
  },
  {
   "cell_type": "markdown",
   "metadata": {},
   "source": [
    "Так, у нас есть датасет для работы. В нём есть числовые и строковые значения столбцов. Я так сделал не случайно, это имитация грязных данных. Не хватает только отсутствующих значений или нулей. Это легко можно исправить)))"
   ]
  },
  {
   "cell_type": "code",
   "execution_count": 926,
   "metadata": {},
   "outputs": [],
   "source": [
    "# чем выше grade, тем ниже вероятность поломки данных\n",
    "def kill_data_cell(bad_data, grade: int):\n",
    "    return lambda data: data if 1 < np.random.randint(0, grade) else bad_data\n",
    "\n",
    "df['height'] = df['height'].apply(kill_data_cell(0, 1000))\n",
    "df['height'] = df['height'].apply(kill_data_cell(np.nan, 1000))\n",
    "df['sex'] = df['sex'].apply(kill_data_cell(np.nan, 1000))\n",
    "df['bank_account'] = df['bank_account'].apply(kill_data_cell(10000000, 2000))\n",
    "df['is_dinner'] = df['is_dinner'].apply(kill_data_cell(np.nan, 1000))"
   ]
  },
  {
   "cell_type": "code",
   "execution_count": 927,
   "metadata": {},
   "outputs": [
    {
     "name": "stdout",
     "output_type": "stream",
     "text": [
      "<class 'pandas.core.frame.DataFrame'>\n",
      "RangeIndex: 10000 entries, 0 to 9999\n",
      "Data columns (total 8 columns):\n",
      "age                  10000 non-null int32\n",
      "weight               10000 non-null int32\n",
      "height               9978 non-null float64\n",
      "sex                  9979 non-null object\n",
      "bank_account         10000 non-null int64\n",
      "shoes_color          10000 non-null object\n",
      "prev_year_vac_sea    10000 non-null object\n",
      "is_dinner            9986 non-null object\n",
      "dtypes: float64(1), int32(2), int64(1), object(4)\n",
      "memory usage: 547.0+ KB\n"
     ]
    }
   ],
   "source": [
    "df.info()"
   ]
  },
  {
   "cell_type": "markdown",
   "metadata": {},
   "source": [
    "Отлично! У нас есть данные, у нас есть \"битые\" данные, некоторые из них это nan. Сперва избавимся от них.\n",
    "\n",
    "Как видно выше, nan объёкты у нас есть в нескольких колонках, а именно \"heigth\", \"sex\" и \"is_dinner\". Из этих колонок только \"heigth\" имеет числовой тип, поэтому nan значения в этой колонке можно заменить на среднее значение."
   ]
  },
  {
   "cell_type": "code",
   "execution_count": 928,
   "metadata": {},
   "outputs": [
    {
     "name": "stdout",
     "output_type": "stream",
     "text": [
      "<class 'pandas.core.frame.DataFrame'>\n",
      "RangeIndex: 10000 entries, 0 to 9999\n",
      "Data columns (total 8 columns):\n",
      "age                  10000 non-null int32\n",
      "weight               10000 non-null int32\n",
      "height               10000 non-null float64\n",
      "sex                  9979 non-null object\n",
      "bank_account         10000 non-null int64\n",
      "shoes_color          10000 non-null object\n",
      "prev_year_vac_sea    10000 non-null object\n",
      "is_dinner            9986 non-null object\n",
      "dtypes: float64(1), int32(2), int64(1), object(4)\n",
      "memory usage: 547.0+ KB\n"
     ]
    }
   ],
   "source": [
    "df.loc[df[df['height'].isna()].index, 'height'] = df['height'].mean()\n",
    "df.info()"
   ]
  },
  {
   "cell_type": "markdown",
   "metadata": {},
   "source": [
    "Отлично! Мы избавились от nan значений в столбце \"height\". Теперь очередь за остальными столбцами.\n",
    "\n",
    "Так как они имеют тип \"object\", с ними нужно разобраться поподробнее. Для этого я посмотрю, какими уникальными значениями они наполнены"
   ]
  },
  {
   "cell_type": "code",
   "execution_count": 929,
   "metadata": {},
   "outputs": [
    {
     "name": "stdout",
     "output_type": "stream",
     "text": [
      "Уникальные значения колонки \"sex\" - ['m' 'f' nan]\n",
      "Уникальные значения колонки \"is_dinner\" - ['n' 'y' nan]\n"
     ]
    }
   ],
   "source": [
    "sex_values = df['sex'].unique()\n",
    "is_dinner_values = df['is_dinner'].unique()\n",
    "\n",
    "print(f'Уникальные значения колонки \"sex\" - {sex_values}')\n",
    "print(f'Уникальные значения колонки \"is_dinner\" - {is_dinner_values}')"
   ]
  },
  {
   "cell_type": "markdown",
   "metadata": {},
   "source": [
    "Как видно из результатов, колонка \"sex\" имеет категориальные значения, а колонка \"is_dinner\" - булевы признаки.\n",
    "\n",
    "В лучшем случае, что я могу сделать, сохранив строки с битыми значениями - применить Indicator Method"
   ]
  },
  {
   "cell_type": "code",
   "execution_count": 930,
   "metadata": {},
   "outputs": [
    {
     "data": {
      "text/html": [
       "<div>\n",
       "<style scoped>\n",
       "    .dataframe tbody tr th:only-of-type {\n",
       "        vertical-align: middle;\n",
       "    }\n",
       "\n",
       "    .dataframe tbody tr th {\n",
       "        vertical-align: top;\n",
       "    }\n",
       "\n",
       "    .dataframe thead th {\n",
       "        text-align: right;\n",
       "    }\n",
       "</style>\n",
       "<table border=\"1\" class=\"dataframe\">\n",
       "  <thead>\n",
       "    <tr style=\"text-align: right;\">\n",
       "      <th></th>\n",
       "      <th>age</th>\n",
       "      <th>weight</th>\n",
       "      <th>height</th>\n",
       "      <th>sex</th>\n",
       "      <th>bank_account</th>\n",
       "      <th>shoes_color</th>\n",
       "      <th>prev_year_vac_sea</th>\n",
       "      <th>is_dinner</th>\n",
       "      <th>sex_missing</th>\n",
       "      <th>is_dinner_missing</th>\n",
       "    </tr>\n",
       "  </thead>\n",
       "  <tbody>\n",
       "    <tr>\n",
       "      <td>0</td>\n",
       "      <td>80</td>\n",
       "      <td>74</td>\n",
       "      <td>178.0</td>\n",
       "      <td>m</td>\n",
       "      <td>868868</td>\n",
       "      <td>green</td>\n",
       "      <td>n</td>\n",
       "      <td>n</td>\n",
       "      <td>0</td>\n",
       "      <td>0</td>\n",
       "    </tr>\n",
       "    <tr>\n",
       "      <td>1</td>\n",
       "      <td>10</td>\n",
       "      <td>30</td>\n",
       "      <td>122.0</td>\n",
       "      <td>f</td>\n",
       "      <td>18132</td>\n",
       "      <td>orange</td>\n",
       "      <td>y</td>\n",
       "      <td>n</td>\n",
       "      <td>0</td>\n",
       "      <td>0</td>\n",
       "    </tr>\n",
       "    <tr>\n",
       "      <td>2</td>\n",
       "      <td>41</td>\n",
       "      <td>33</td>\n",
       "      <td>171.0</td>\n",
       "      <td>f</td>\n",
       "      <td>785135</td>\n",
       "      <td>black</td>\n",
       "      <td>n</td>\n",
       "      <td>n</td>\n",
       "      <td>0</td>\n",
       "      <td>0</td>\n",
       "    </tr>\n",
       "    <tr>\n",
       "      <td>3</td>\n",
       "      <td>54</td>\n",
       "      <td>73</td>\n",
       "      <td>80.0</td>\n",
       "      <td>m</td>\n",
       "      <td>223219</td>\n",
       "      <td>white</td>\n",
       "      <td>n</td>\n",
       "      <td>y</td>\n",
       "      <td>0</td>\n",
       "      <td>0</td>\n",
       "    </tr>\n",
       "    <tr>\n",
       "      <td>4</td>\n",
       "      <td>16</td>\n",
       "      <td>62</td>\n",
       "      <td>59.0</td>\n",
       "      <td>f</td>\n",
       "      <td>228832</td>\n",
       "      <td>black</td>\n",
       "      <td>n</td>\n",
       "      <td>n</td>\n",
       "      <td>0</td>\n",
       "      <td>0</td>\n",
       "    </tr>\n",
       "  </tbody>\n",
       "</table>\n",
       "</div>"
      ],
      "text/plain": [
       "   age  weight  height sex  bank_account shoes_color prev_year_vac_sea  \\\n",
       "0   80      74   178.0   m        868868       green                 n   \n",
       "1   10      30   122.0   f         18132      orange                 y   \n",
       "2   41      33   171.0   f        785135       black                 n   \n",
       "3   54      73    80.0   m        223219       white                 n   \n",
       "4   16      62    59.0   f        228832       black                 n   \n",
       "\n",
       "  is_dinner  sex_missing  is_dinner_missing  \n",
       "0         n            0                  0  \n",
       "1         n            0                  0  \n",
       "2         n            0                  0  \n",
       "3         y            0                  0  \n",
       "4         n            0                  0  "
      ]
     },
     "execution_count": 930,
     "metadata": {},
     "output_type": "execute_result"
    }
   ],
   "source": [
    "sex_missing_label = 'sex_missing'\n",
    "is_dinner_missing_label = 'is_dinner_missing'\n",
    "\n",
    "df = df.assign(**{\n",
    "    sex_missing_label: np.zeros(len(df)).astype('int'),\n",
    "    is_dinner_missing_label: np.zeros(len(df)).astype('int'),\n",
    "})\n",
    "\n",
    "df.head()"
   ]
  },
  {
   "cell_type": "code",
   "execution_count": 931,
   "metadata": {},
   "outputs": [],
   "source": [
    "sex_missing_indexes = df[df['sex'].isna()].index\n",
    "\n",
    "df.loc[sex_missing_indexes, 'sex'] = 0\n",
    "df.loc[sex_missing_indexes, sex_missing_label] = 1"
   ]
  },
  {
   "cell_type": "code",
   "execution_count": 932,
   "metadata": {},
   "outputs": [],
   "source": [
    "is_dinner_missing_indexes = df[df['is_dinner'].isna()].index\n",
    "\n",
    "df.loc[is_dinner_missing_indexes, 'is_dinner'] = 0\n",
    "df.loc[is_dinner_missing_indexes, is_dinner_missing_label] = 1"
   ]
  },
  {
   "cell_type": "code",
   "execution_count": 933,
   "metadata": {},
   "outputs": [
    {
     "name": "stdout",
     "output_type": "stream",
     "text": [
      "<class 'pandas.core.frame.DataFrame'>\n",
      "RangeIndex: 10000 entries, 0 to 9999\n",
      "Data columns (total 10 columns):\n",
      "age                  10000 non-null int32\n",
      "weight               10000 non-null int32\n",
      "height               10000 non-null float64\n",
      "sex                  10000 non-null object\n",
      "bank_account         10000 non-null int64\n",
      "shoes_color          10000 non-null object\n",
      "prev_year_vac_sea    10000 non-null object\n",
      "is_dinner            10000 non-null object\n",
      "sex_missing          10000 non-null int32\n",
      "is_dinner_missing    10000 non-null int32\n",
      "dtypes: float64(1), int32(4), int64(1), object(4)\n",
      "memory usage: 625.1+ KB\n"
     ]
    }
   ],
   "source": [
    "df.info()"
   ]
  },
  {
   "cell_type": "markdown",
   "metadata": {},
   "source": [
    "Отлично! Теперь мы избавились от всех nan значений\n",
    "\n",
    "Теперь моя задача - привести все данные к числовому типу. Для этого мне потребуется изучить все колонки с типом \"object\""
   ]
  },
  {
   "cell_type": "code",
   "execution_count": 934,
   "metadata": {},
   "outputs": [
    {
     "name": "stdout",
     "output_type": "stream",
     "text": [
      "Уникальные значения из колонки sex - ['m' 'f' 0]\n",
      "Уникальные значения из колонки shoes_color - ['green' 'orange' 'black' 'white' 'red']\n",
      "Уникальные значения из колонки prev_year_vac_sea - ['n' 'y']\n",
      "Уникальные значения из колонки is_dinner - ['n' 'y' 0]\n"
     ]
    }
   ],
   "source": [
    "for col in df.select_dtypes(include=['object']).columns:\n",
    "    print(f'Уникальные значения из колонки {col} - {df[col].unique()}')"
   ]
  },
  {
   "cell_type": "markdown",
   "metadata": {},
   "source": [
    "Как видно, есть категориальные значения: sex - ['f' 'm']; shoes_color - ['black' 'red' 'orange' 'green' 'white']; и булевы: prev_year_vac_sea - ['n' 'y'] и is_dinner - ['n' 'y'].\n",
    "\n",
    "Каждый признак 'n' мы заменим на 0, 'y' на 1, 'f' на 0, 'm' на 1.\n",
    "\n",
    "Каждый признак из shoes_color мы заменим на число от 1 до длины списка значений shoes_color"
   ]
  },
  {
   "cell_type": "code",
   "execution_count": 935,
   "metadata": {},
   "outputs": [
    {
     "data": {
      "text/html": [
       "<div>\n",
       "<style scoped>\n",
       "    .dataframe tbody tr th:only-of-type {\n",
       "        vertical-align: middle;\n",
       "    }\n",
       "\n",
       "    .dataframe tbody tr th {\n",
       "        vertical-align: top;\n",
       "    }\n",
       "\n",
       "    .dataframe thead th {\n",
       "        text-align: right;\n",
       "    }\n",
       "</style>\n",
       "<table border=\"1\" class=\"dataframe\">\n",
       "  <thead>\n",
       "    <tr style=\"text-align: right;\">\n",
       "      <th></th>\n",
       "      <th>age</th>\n",
       "      <th>weight</th>\n",
       "      <th>height</th>\n",
       "      <th>sex</th>\n",
       "      <th>bank_account</th>\n",
       "      <th>shoes_color</th>\n",
       "      <th>prev_year_vac_sea</th>\n",
       "      <th>is_dinner</th>\n",
       "      <th>sex_missing</th>\n",
       "      <th>is_dinner_missing</th>\n",
       "    </tr>\n",
       "  </thead>\n",
       "  <tbody>\n",
       "    <tr>\n",
       "      <td>0</td>\n",
       "      <td>80</td>\n",
       "      <td>74</td>\n",
       "      <td>178.0</td>\n",
       "      <td>m</td>\n",
       "      <td>868868</td>\n",
       "      <td>green</td>\n",
       "      <td>0</td>\n",
       "      <td>0</td>\n",
       "      <td>0</td>\n",
       "      <td>0</td>\n",
       "    </tr>\n",
       "    <tr>\n",
       "      <td>1</td>\n",
       "      <td>10</td>\n",
       "      <td>30</td>\n",
       "      <td>122.0</td>\n",
       "      <td>f</td>\n",
       "      <td>18132</td>\n",
       "      <td>orange</td>\n",
       "      <td>1</td>\n",
       "      <td>0</td>\n",
       "      <td>0</td>\n",
       "      <td>0</td>\n",
       "    </tr>\n",
       "    <tr>\n",
       "      <td>2</td>\n",
       "      <td>41</td>\n",
       "      <td>33</td>\n",
       "      <td>171.0</td>\n",
       "      <td>f</td>\n",
       "      <td>785135</td>\n",
       "      <td>black</td>\n",
       "      <td>0</td>\n",
       "      <td>0</td>\n",
       "      <td>0</td>\n",
       "      <td>0</td>\n",
       "    </tr>\n",
       "    <tr>\n",
       "      <td>3</td>\n",
       "      <td>54</td>\n",
       "      <td>73</td>\n",
       "      <td>80.0</td>\n",
       "      <td>m</td>\n",
       "      <td>223219</td>\n",
       "      <td>white</td>\n",
       "      <td>0</td>\n",
       "      <td>1</td>\n",
       "      <td>0</td>\n",
       "      <td>0</td>\n",
       "    </tr>\n",
       "    <tr>\n",
       "      <td>4</td>\n",
       "      <td>16</td>\n",
       "      <td>62</td>\n",
       "      <td>59.0</td>\n",
       "      <td>f</td>\n",
       "      <td>228832</td>\n",
       "      <td>black</td>\n",
       "      <td>0</td>\n",
       "      <td>0</td>\n",
       "      <td>0</td>\n",
       "      <td>0</td>\n",
       "    </tr>\n",
       "  </tbody>\n",
       "</table>\n",
       "</div>"
      ],
      "text/plain": [
       "   age  weight  height sex  bank_account shoes_color  prev_year_vac_sea  \\\n",
       "0   80      74   178.0   m        868868       green                  0   \n",
       "1   10      30   122.0   f         18132      orange                  1   \n",
       "2   41      33   171.0   f        785135       black                  0   \n",
       "3   54      73    80.0   m        223219       white                  0   \n",
       "4   16      62    59.0   f        228832       black                  0   \n",
       "\n",
       "   is_dinner  sex_missing  is_dinner_missing  \n",
       "0          0            0                  0  \n",
       "1          0            0                  0  \n",
       "2          0            0                  0  \n",
       "3          1            0                  0  \n",
       "4          0            0                  0  "
      ]
     },
     "execution_count": 935,
     "metadata": {},
     "output_type": "execute_result"
    }
   ],
   "source": [
    "def change_y_n(val):\n",
    "    if val == NO:\n",
    "        return 0\n",
    "    elif val == YES:\n",
    "        return 1\n",
    "    return val\n",
    "\n",
    "df['prev_year_vac_sea'] = df['prev_year_vac_sea'].apply(change_y_n)\n",
    "df['is_dinner'] = df['is_dinner'].apply(change_y_n)\n",
    "\n",
    "df.head()"
   ]
  },
  {
   "cell_type": "code",
   "execution_count": 936,
   "metadata": {},
   "outputs": [
    {
     "data": {
      "text/html": [
       "<div>\n",
       "<style scoped>\n",
       "    .dataframe tbody tr th:only-of-type {\n",
       "        vertical-align: middle;\n",
       "    }\n",
       "\n",
       "    .dataframe tbody tr th {\n",
       "        vertical-align: top;\n",
       "    }\n",
       "\n",
       "    .dataframe thead th {\n",
       "        text-align: right;\n",
       "    }\n",
       "</style>\n",
       "<table border=\"1\" class=\"dataframe\">\n",
       "  <thead>\n",
       "    <tr style=\"text-align: right;\">\n",
       "      <th></th>\n",
       "      <th>age</th>\n",
       "      <th>weight</th>\n",
       "      <th>height</th>\n",
       "      <th>sex</th>\n",
       "      <th>bank_account</th>\n",
       "      <th>shoes_color</th>\n",
       "      <th>prev_year_vac_sea</th>\n",
       "      <th>is_dinner</th>\n",
       "      <th>sex_missing</th>\n",
       "      <th>is_dinner_missing</th>\n",
       "    </tr>\n",
       "  </thead>\n",
       "  <tbody>\n",
       "    <tr>\n",
       "      <td>0</td>\n",
       "      <td>80</td>\n",
       "      <td>74</td>\n",
       "      <td>178.0</td>\n",
       "      <td>m</td>\n",
       "      <td>868868</td>\n",
       "      <td>3</td>\n",
       "      <td>0</td>\n",
       "      <td>0</td>\n",
       "      <td>0</td>\n",
       "      <td>0</td>\n",
       "    </tr>\n",
       "    <tr>\n",
       "      <td>1</td>\n",
       "      <td>10</td>\n",
       "      <td>30</td>\n",
       "      <td>122.0</td>\n",
       "      <td>f</td>\n",
       "      <td>18132</td>\n",
       "      <td>5</td>\n",
       "      <td>1</td>\n",
       "      <td>0</td>\n",
       "      <td>0</td>\n",
       "      <td>0</td>\n",
       "    </tr>\n",
       "    <tr>\n",
       "      <td>2</td>\n",
       "      <td>41</td>\n",
       "      <td>33</td>\n",
       "      <td>171.0</td>\n",
       "      <td>f</td>\n",
       "      <td>785135</td>\n",
       "      <td>1</td>\n",
       "      <td>0</td>\n",
       "      <td>0</td>\n",
       "      <td>0</td>\n",
       "      <td>0</td>\n",
       "    </tr>\n",
       "    <tr>\n",
       "      <td>3</td>\n",
       "      <td>54</td>\n",
       "      <td>73</td>\n",
       "      <td>80.0</td>\n",
       "      <td>m</td>\n",
       "      <td>223219</td>\n",
       "      <td>4</td>\n",
       "      <td>0</td>\n",
       "      <td>1</td>\n",
       "      <td>0</td>\n",
       "      <td>0</td>\n",
       "    </tr>\n",
       "    <tr>\n",
       "      <td>4</td>\n",
       "      <td>16</td>\n",
       "      <td>62</td>\n",
       "      <td>59.0</td>\n",
       "      <td>f</td>\n",
       "      <td>228832</td>\n",
       "      <td>1</td>\n",
       "      <td>0</td>\n",
       "      <td>0</td>\n",
       "      <td>0</td>\n",
       "      <td>0</td>\n",
       "    </tr>\n",
       "  </tbody>\n",
       "</table>\n",
       "</div>"
      ],
      "text/plain": [
       "   age  weight  height sex  bank_account  shoes_color  prev_year_vac_sea  \\\n",
       "0   80      74   178.0   m        868868            3                  0   \n",
       "1   10      30   122.0   f         18132            5                  1   \n",
       "2   41      33   171.0   f        785135            1                  0   \n",
       "3   54      73    80.0   m        223219            4                  0   \n",
       "4   16      62    59.0   f        228832            1                  0   \n",
       "\n",
       "   is_dinner  sex_missing  is_dinner_missing  \n",
       "0          0            0                  0  \n",
       "1          0            0                  0  \n",
       "2          0            0                  0  \n",
       "3          1            0                  0  \n",
       "4          0            0                  0  "
      ]
     },
     "execution_count": 936,
     "metadata": {},
     "output_type": "execute_result"
    }
   ],
   "source": [
    "def change_shoes_color(val):\n",
    "    try:\n",
    "        return shoes_colors.index(val) + 1 # count from 1\n",
    "    except:\n",
    "        return -1\n",
    "    return val\n",
    "\n",
    "df['shoes_color'] = df['shoes_color'].apply(change_shoes_color)\n",
    "\n",
    "df.head()"
   ]
  },
  {
   "cell_type": "code",
   "execution_count": 937,
   "metadata": {},
   "outputs": [
    {
     "data": {
      "text/html": [
       "<div>\n",
       "<style scoped>\n",
       "    .dataframe tbody tr th:only-of-type {\n",
       "        vertical-align: middle;\n",
       "    }\n",
       "\n",
       "    .dataframe tbody tr th {\n",
       "        vertical-align: top;\n",
       "    }\n",
       "\n",
       "    .dataframe thead th {\n",
       "        text-align: right;\n",
       "    }\n",
       "</style>\n",
       "<table border=\"1\" class=\"dataframe\">\n",
       "  <thead>\n",
       "    <tr style=\"text-align: right;\">\n",
       "      <th></th>\n",
       "      <th>age</th>\n",
       "      <th>weight</th>\n",
       "      <th>height</th>\n",
       "      <th>sex</th>\n",
       "      <th>bank_account</th>\n",
       "      <th>shoes_color</th>\n",
       "      <th>prev_year_vac_sea</th>\n",
       "      <th>is_dinner</th>\n",
       "      <th>sex_missing</th>\n",
       "      <th>is_dinner_missing</th>\n",
       "    </tr>\n",
       "  </thead>\n",
       "  <tbody>\n",
       "    <tr>\n",
       "      <td>0</td>\n",
       "      <td>80</td>\n",
       "      <td>74</td>\n",
       "      <td>178.0</td>\n",
       "      <td>1</td>\n",
       "      <td>868868</td>\n",
       "      <td>3</td>\n",
       "      <td>0</td>\n",
       "      <td>0</td>\n",
       "      <td>0</td>\n",
       "      <td>0</td>\n",
       "    </tr>\n",
       "    <tr>\n",
       "      <td>1</td>\n",
       "      <td>10</td>\n",
       "      <td>30</td>\n",
       "      <td>122.0</td>\n",
       "      <td>0</td>\n",
       "      <td>18132</td>\n",
       "      <td>5</td>\n",
       "      <td>1</td>\n",
       "      <td>0</td>\n",
       "      <td>0</td>\n",
       "      <td>0</td>\n",
       "    </tr>\n",
       "    <tr>\n",
       "      <td>2</td>\n",
       "      <td>41</td>\n",
       "      <td>33</td>\n",
       "      <td>171.0</td>\n",
       "      <td>0</td>\n",
       "      <td>785135</td>\n",
       "      <td>1</td>\n",
       "      <td>0</td>\n",
       "      <td>0</td>\n",
       "      <td>0</td>\n",
       "      <td>0</td>\n",
       "    </tr>\n",
       "    <tr>\n",
       "      <td>3</td>\n",
       "      <td>54</td>\n",
       "      <td>73</td>\n",
       "      <td>80.0</td>\n",
       "      <td>1</td>\n",
       "      <td>223219</td>\n",
       "      <td>4</td>\n",
       "      <td>0</td>\n",
       "      <td>1</td>\n",
       "      <td>0</td>\n",
       "      <td>0</td>\n",
       "    </tr>\n",
       "    <tr>\n",
       "      <td>4</td>\n",
       "      <td>16</td>\n",
       "      <td>62</td>\n",
       "      <td>59.0</td>\n",
       "      <td>0</td>\n",
       "      <td>228832</td>\n",
       "      <td>1</td>\n",
       "      <td>0</td>\n",
       "      <td>0</td>\n",
       "      <td>0</td>\n",
       "      <td>0</td>\n",
       "    </tr>\n",
       "  </tbody>\n",
       "</table>\n",
       "</div>"
      ],
      "text/plain": [
       "   age  weight  height  sex  bank_account  shoes_color  prev_year_vac_sea  \\\n",
       "0   80      74   178.0    1        868868            3                  0   \n",
       "1   10      30   122.0    0         18132            5                  1   \n",
       "2   41      33   171.0    0        785135            1                  0   \n",
       "3   54      73    80.0    1        223219            4                  0   \n",
       "4   16      62    59.0    0        228832            1                  0   \n",
       "\n",
       "   is_dinner  sex_missing  is_dinner_missing  \n",
       "0          0            0                  0  \n",
       "1          0            0                  0  \n",
       "2          0            0                  0  \n",
       "3          1            0                  0  \n",
       "4          0            0                  0  "
      ]
     },
     "execution_count": 937,
     "metadata": {},
     "output_type": "execute_result"
    }
   ],
   "source": [
    "def change_sex(val):\n",
    "    if val == FEMALE:\n",
    "        return 0\n",
    "    elif val == MALE:\n",
    "        return 1\n",
    "    return val\n",
    "\n",
    "df['sex'] = df['sex'].apply(change_sex)\n",
    "\n",
    "df.head()"
   ]
  },
  {
   "cell_type": "code",
   "execution_count": 938,
   "metadata": {},
   "outputs": [
    {
     "name": "stdout",
     "output_type": "stream",
     "text": [
      "<class 'pandas.core.frame.DataFrame'>\n",
      "RangeIndex: 10000 entries, 0 to 9999\n",
      "Data columns (total 10 columns):\n",
      "age                  10000 non-null int32\n",
      "weight               10000 non-null int32\n",
      "height               10000 non-null float64\n",
      "sex                  10000 non-null int64\n",
      "bank_account         10000 non-null int64\n",
      "shoes_color          10000 non-null int64\n",
      "prev_year_vac_sea    10000 non-null int64\n",
      "is_dinner            10000 non-null int64\n",
      "sex_missing          10000 non-null int32\n",
      "is_dinner_missing    10000 non-null int32\n",
      "dtypes: float64(1), int32(4), int64(5)\n",
      "memory usage: 625.1 KB\n"
     ]
    }
   ],
   "source": [
    "df.info()"
   ]
  },
  {
   "cell_type": "markdown",
   "metadata": {},
   "source": [
    "Отлично! Все наши значения non-null и приведены к числовому виду"
   ]
  },
  {
   "cell_type": "markdown",
   "metadata": {},
   "source": [
    "Теперь было бы здорово проверить наши данные на наличие выбросов. Т.к. более наглядных инструментов, кроме графиков, я пока не знаю, я применю точечный график к каждому столбцу"
   ]
  },
  {
   "cell_type": "code",
   "execution_count": 939,
   "metadata": {},
   "outputs": [
    {
     "data": {
      "image/png": "[encoded data removed]",
      "text/plain": [
       "<Figure size 432x288 with 1 Axes>"
      ]
     },
     "metadata": {
      "needs_background": "light"
     },
     "output_type": "display_data"
    },
    {
     "data": {
      "image/png": "[encoded data removed]",
      "text/plain": [
       "<Figure size 432x288 with 1 Axes>"
      ]
     },
     "metadata": {
      "needs_background": "light"
     },
     "output_type": "display_data"
    },
    {
     "data": {
      "image/png": "[encoded data removed]",
      "text/plain": [
       "<Figure size 432x288 with 1 Axes>"
      ]
     },
     "metadata": {
      "needs_background": "light"
     },
     "output_type": "display_data"
    },
    {
     "data": {
      "image/png": "[encoded data removed]",
      "text/plain": [
       "<Figure size 432x288 with 1 Axes>"
      ]
     },
     "metadata": {
      "needs_background": "light"
     },
     "output_type": "display_data"
    },
    {
     "data": {
      "image/png": "[encoded data removed]",
      "text/plain": [
       "<Figure size 432x288 with 1 Axes>"
      ]
     },
     "metadata": {
      "needs_background": "light"
     },
     "output_type": "display_data"
    },
    {
     "data": {
      "image/png": "[encoded data removed]",
      "text/plain": [
       "<Figure size 432x288 with 1 Axes>"
      ]
     },
     "metadata": {
      "needs_background": "light"
     },
     "output_type": "display_data"
    },
    {
     "data": {
      "image/png": "[encoded data removed]",
      "text/plain": [
       "<Figure size 432x288 with 1 Axes>"
      ]
     },
     "metadata": {
      "needs_background": "light"
     },
     "output_type": "display_data"
    },
    {
     "data": {
      "image/png": "[encoded data removed]",
      "text/plain": [
       "<Figure size 432x288 with 1 Axes>"
      ]
     },
     "metadata": {
      "needs_background": "light"
     },
     "output_type": "display_data"
    },
    {
     "data": {
      "image/png": "[encoded data removed]",
      "text/plain": [
       "<Figure size 432x288 with 1 Axes>"
      ]
     },
     "metadata": {
      "needs_background": "light"
     },
     "output_type": "display_data"
    },
    {
     "data": {
      "image/png": "[encoded data removed]",
      "text/plain": [
       "<Figure size 432x288 with 1 Axes>"
      ]
     },
     "metadata": {
      "needs_background": "light"
     },
     "output_type": "display_data"
    }
   ],
   "source": [
    "x = range(len(df))\n",
    "\n",
    "for col in df.columns:\n",
    "    plt.title(f'График колонки \"{col}\"')\n",
    "    plt.scatter(x, df[col])\n",
    "    plt.show()"
   ]
  },
  {
   "cell_type": "markdown",
   "metadata": {},
   "source": [
    "Очевидные выбросы есть в колонках: \"height\" (< 50), \"bank_account\" (> 1mln). Остальные выглядят в норме, поэтому займёмся именно этими рядами"
   ]
  },
  {
   "cell_type": "code",
   "execution_count": 942,
   "metadata": {},
   "outputs": [
    {
     "data": {
      "text/html": [
       "<div>\n",
       "<style scoped>\n",
       "    .dataframe tbody tr th:only-of-type {\n",
       "        vertical-align: middle;\n",
       "    }\n",
       "\n",
       "    .dataframe tbody tr th {\n",
       "        vertical-align: top;\n",
       "    }\n",
       "\n",
       "    .dataframe thead th {\n",
       "        text-align: right;\n",
       "    }\n",
       "</style>\n",
       "<table border=\"1\" class=\"dataframe\">\n",
       "  <thead>\n",
       "    <tr style=\"text-align: right;\">\n",
       "      <th></th>\n",
       "      <th>age</th>\n",
       "      <th>weight</th>\n",
       "      <th>height</th>\n",
       "      <th>sex</th>\n",
       "      <th>bank_account</th>\n",
       "      <th>shoes_color</th>\n",
       "      <th>prev_year_vac_sea</th>\n",
       "      <th>is_dinner</th>\n",
       "      <th>sex_missing</th>\n",
       "      <th>is_dinner_missing</th>\n",
       "    </tr>\n",
       "  </thead>\n",
       "  <tbody>\n",
       "    <tr>\n",
       "      <td>105</td>\n",
       "      <td>37</td>\n",
       "      <td>16</td>\n",
       "      <td>0.0</td>\n",
       "      <td>1</td>\n",
       "      <td>372141</td>\n",
       "      <td>5</td>\n",
       "      <td>0</td>\n",
       "      <td>0</td>\n",
       "      <td>0</td>\n",
       "      <td>0</td>\n",
       "    </tr>\n",
       "    <tr>\n",
       "      <td>821</td>\n",
       "      <td>15</td>\n",
       "      <td>82</td>\n",
       "      <td>0.0</td>\n",
       "      <td>1</td>\n",
       "      <td>621547</td>\n",
       "      <td>3</td>\n",
       "      <td>0</td>\n",
       "      <td>0</td>\n",
       "      <td>0</td>\n",
       "      <td>0</td>\n",
       "    </tr>\n",
       "    <tr>\n",
       "      <td>875</td>\n",
       "      <td>53</td>\n",
       "      <td>124</td>\n",
       "      <td>0.0</td>\n",
       "      <td>0</td>\n",
       "      <td>172364</td>\n",
       "      <td>4</td>\n",
       "      <td>0</td>\n",
       "      <td>0</td>\n",
       "      <td>0</td>\n",
       "      <td>0</td>\n",
       "    </tr>\n",
       "    <tr>\n",
       "      <td>881</td>\n",
       "      <td>25</td>\n",
       "      <td>143</td>\n",
       "      <td>0.0</td>\n",
       "      <td>1</td>\n",
       "      <td>855902</td>\n",
       "      <td>3</td>\n",
       "      <td>0</td>\n",
       "      <td>1</td>\n",
       "      <td>0</td>\n",
       "      <td>0</td>\n",
       "    </tr>\n",
       "    <tr>\n",
       "      <td>1538</td>\n",
       "      <td>53</td>\n",
       "      <td>18</td>\n",
       "      <td>0.0</td>\n",
       "      <td>1</td>\n",
       "      <td>254170</td>\n",
       "      <td>4</td>\n",
       "      <td>1</td>\n",
       "      <td>0</td>\n",
       "      <td>0</td>\n",
       "      <td>0</td>\n",
       "    </tr>\n",
       "  </tbody>\n",
       "</table>\n",
       "</div>"
      ],
      "text/plain": [
       "      age  weight  height  sex  bank_account  shoes_color  prev_year_vac_sea  \\\n",
       "105    37      16     0.0    1        372141            5                  0   \n",
       "821    15      82     0.0    1        621547            3                  0   \n",
       "875    53     124     0.0    0        172364            4                  0   \n",
       "881    25     143     0.0    1        855902            3                  0   \n",
       "1538   53      18     0.0    1        254170            4                  1   \n",
       "\n",
       "      is_dinner  sex_missing  is_dinner_missing  \n",
       "105           0            0                  0  \n",
       "821           0            0                  0  \n",
       "875           0            0                  0  \n",
       "881           1            0                  0  \n",
       "1538          0            0                  0  "
      ]
     },
     "execution_count": 942,
     "metadata": {},
     "output_type": "execute_result"
    }
   ],
   "source": [
    "df[df['height'] < 50].head()"
   ]
  },
  {
   "cell_type": "markdown",
   "metadata": {},
   "source": [
    "Да, опеределенно их можно заменить на среднее значение"
   ]
  },
  {
   "cell_type": "code",
   "execution_count": 950,
   "metadata": {},
   "outputs": [
    {
     "data": {
      "text/plain": [
       "(0, 10)"
      ]
     },
     "execution_count": 950,
     "metadata": {},
     "output_type": "execute_result"
    }
   ],
   "source": [
    "df.loc[df[df['height'] < 50].index, 'height'] = df['height'].mean()\n",
    "\n",
    "df[df['height'] < 50].shape"
   ]
  },
  {
   "cell_type": "markdown",
   "metadata": {},
   "source": [
    "Повторим фокус с столбцом \"bank_account\""
   ]
  },
  {
   "cell_type": "code",
   "execution_count": 952,
   "metadata": {},
   "outputs": [
    {
     "data": {
      "text/html": [
       "<div>\n",
       "<style scoped>\n",
       "    .dataframe tbody tr th:only-of-type {\n",
       "        vertical-align: middle;\n",
       "    }\n",
       "\n",
       "    .dataframe tbody tr th {\n",
       "        vertical-align: top;\n",
       "    }\n",
       "\n",
       "    .dataframe thead th {\n",
       "        text-align: right;\n",
       "    }\n",
       "</style>\n",
       "<table border=\"1\" class=\"dataframe\">\n",
       "  <thead>\n",
       "    <tr style=\"text-align: right;\">\n",
       "      <th></th>\n",
       "      <th>age</th>\n",
       "      <th>weight</th>\n",
       "      <th>height</th>\n",
       "      <th>sex</th>\n",
       "      <th>bank_account</th>\n",
       "      <th>shoes_color</th>\n",
       "      <th>prev_year_vac_sea</th>\n",
       "      <th>is_dinner</th>\n",
       "      <th>sex_missing</th>\n",
       "      <th>is_dinner_missing</th>\n",
       "    </tr>\n",
       "  </thead>\n",
       "  <tbody>\n",
       "    <tr>\n",
       "      <td>498</td>\n",
       "      <td>25</td>\n",
       "      <td>149</td>\n",
       "      <td>69.0</td>\n",
       "      <td>1</td>\n",
       "      <td>10000000</td>\n",
       "      <td>4</td>\n",
       "      <td>0</td>\n",
       "      <td>0</td>\n",
       "      <td>0</td>\n",
       "      <td>0</td>\n",
       "    </tr>\n",
       "    <tr>\n",
       "      <td>2258</td>\n",
       "      <td>56</td>\n",
       "      <td>92</td>\n",
       "      <td>179.0</td>\n",
       "      <td>0</td>\n",
       "      <td>10000000</td>\n",
       "      <td>1</td>\n",
       "      <td>0</td>\n",
       "      <td>0</td>\n",
       "      <td>0</td>\n",
       "      <td>0</td>\n",
       "    </tr>\n",
       "    <tr>\n",
       "      <td>2415</td>\n",
       "      <td>64</td>\n",
       "      <td>94</td>\n",
       "      <td>76.0</td>\n",
       "      <td>1</td>\n",
       "      <td>10000000</td>\n",
       "      <td>2</td>\n",
       "      <td>0</td>\n",
       "      <td>0</td>\n",
       "      <td>0</td>\n",
       "      <td>0</td>\n",
       "    </tr>\n",
       "    <tr>\n",
       "      <td>4319</td>\n",
       "      <td>12</td>\n",
       "      <td>43</td>\n",
       "      <td>125.0</td>\n",
       "      <td>0</td>\n",
       "      <td>10000000</td>\n",
       "      <td>1</td>\n",
       "      <td>1</td>\n",
       "      <td>0</td>\n",
       "      <td>0</td>\n",
       "      <td>0</td>\n",
       "    </tr>\n",
       "    <tr>\n",
       "      <td>4897</td>\n",
       "      <td>46</td>\n",
       "      <td>141</td>\n",
       "      <td>108.0</td>\n",
       "      <td>1</td>\n",
       "      <td>10000000</td>\n",
       "      <td>5</td>\n",
       "      <td>0</td>\n",
       "      <td>0</td>\n",
       "      <td>0</td>\n",
       "      <td>0</td>\n",
       "    </tr>\n",
       "  </tbody>\n",
       "</table>\n",
       "</div>"
      ],
      "text/plain": [
       "      age  weight  height  sex  bank_account  shoes_color  prev_year_vac_sea  \\\n",
       "498    25     149    69.0    1      10000000            4                  0   \n",
       "2258   56      92   179.0    0      10000000            1                  0   \n",
       "2415   64      94    76.0    1      10000000            2                  0   \n",
       "4319   12      43   125.0    0      10000000            1                  1   \n",
       "4897   46     141   108.0    1      10000000            5                  0   \n",
       "\n",
       "      is_dinner  sex_missing  is_dinner_missing  \n",
       "498           0            0                  0  \n",
       "2258          0            0                  0  \n",
       "2415          0            0                  0  \n",
       "4319          0            0                  0  \n",
       "4897          0            0                  0  "
      ]
     },
     "execution_count": 952,
     "metadata": {},
     "output_type": "execute_result"
    }
   ],
   "source": [
    "df[df['bank_account'] > 1000000].head()"
   ]
  },
  {
   "cell_type": "code",
   "execution_count": 954,
   "metadata": {},
   "outputs": [
    {
     "data": {
      "text/plain": [
       "(0, 10)"
      ]
     },
     "execution_count": 954,
     "metadata": {},
     "output_type": "execute_result"
    }
   ],
   "source": [
    "df.loc[df[df['bank_account'] < 50].index, 'bank_account'] = df['bank_account'].mean()\n",
    "\n",
    "df[df['bank_account'] < 50].shape"
   ]
  },
  {
   "cell_type": "markdown",
   "metadata": {},
   "source": [
    "Отлично! Теперь я избавился от всех выбросов, пустых значений и привёл все строковые значения к числовым"
   ]
  },
  {
   "cell_type": "markdown",
   "metadata": {},
   "source": [
    "Теперь можно сделать какую-то магию и начать производить вычисления"
   ]
  },
  {
   "cell_type": "code",
   "execution_count": 962,
   "metadata": {},
   "outputs": [],
   "source": [
    "x = df[[*labels, 'sex_missing', 'is_dinner_missing']]\n",
    "y = df[target_label]"
   ]
  },
  {
   "cell_type": "code",
   "execution_count": 963,
   "metadata": {},
   "outputs": [
    {
     "name": "stdout",
     "output_type": "stream",
     "text": [
      "Weights: [-1.80623039e-05  1.56861126e-05  8.37007386e-06  3.03376708e-03\n",
      " -9.00571787e-10  3.70107675e-04  4.06073251e-03  7.54123939e-02\n",
      " -2.15986833e-02]\n",
      "Bias: 0.01667566052024042\n",
      "Error: 0.04261633985841016\n"
     ]
    }
   ],
   "source": [
    "model = LinearRegression().fit(x, y)\n",
    "print(f'Weights: {model.coef_}')\n",
    "print(f'Bias: {model.intercept_}')\n",
    "\n",
    "pred_values = model.predict(x)\n",
    "print(f'Error: {mean_absolute_error(pred_values, y)}')"
   ]
  },
  {
   "cell_type": "markdown",
   "metadata": {},
   "source": [
    "Средняя абсолютная ошибка получилась очень маленькая (~4.2%), но это связано с тем, что целевое значение имеет булев тип. Попробуем его отпимизировать, удалив лишние пункты. Начнём, пожалуй, с пунктов: \"bank_account\", \"prev_year_vac_sea\""
   ]
  },
  {
   "cell_type": "code",
   "execution_count": 964,
   "metadata": {},
   "outputs": [],
   "source": [
    "x = df[['age', 'weight', 'height', 'sex', 'shoes_color', 'sex_missing', 'is_dinner_missing']]\n",
    "y = df[target_label]"
   ]
  },
  {
   "cell_type": "code",
   "execution_count": 965,
   "metadata": {},
   "outputs": [
    {
     "name": "stdout",
     "output_type": "stream",
     "text": [
      "Weights: [-1.90489047e-05  1.58483607e-05  8.60232449e-06  2.97266272e-03\n",
      "  3.65442729e-04  7.52812986e-02 -2.21631993e-02]\n",
      "Bias: 0.01706497947784183\n",
      "Error: 0.0426218983315395\n"
     ]
    }
   ],
   "source": [
    "model = LinearRegression().fit(x, y)\n",
    "print(f'Weights: {model.coef_}')\n",
    "print(f'Bias: {model.intercept_}')\n",
    "\n",
    "pred_values = model.predict(x)\n",
    "print(f'Error: {mean_absolute_error(pred_values, y)}')"
   ]
  },
  {
   "cell_type": "markdown",
   "metadata": {},
   "source": [
    "Данные изменились. Попробуем избавиться от ещё нескольких колонок, не влияющих на габариты туриста: \"age\", \"sex\", \"sex_missing\", \"shoes_color\""
   ]
  },
  {
   "cell_type": "code",
   "execution_count": 969,
   "metadata": {},
   "outputs": [],
   "source": [
    "x = df[['weight', 'height','is_dinner_missing']]\n",
    "y = df[target_label]"
   ]
  },
  {
   "cell_type": "code",
   "execution_count": 970,
   "metadata": {},
   "outputs": [
    {
     "name": "stdout",
     "output_type": "stream",
     "text": [
      "Weights: [ 1.66911999e-05  8.76330867e-06 -2.21770820e-02]\n",
      "Bias: 0.019309735405023773\n",
      "Error: 0.04264792929994754\n"
     ]
    }
   ],
   "source": [
    "model = LinearRegression().fit(x, y)\n",
    "print(f'Weights: {model.coef_}')\n",
    "print(f'Bias: {model.intercept_}')\n",
    "\n",
    "pred_values = model.predict(x)\n",
    "print(f'Error: {mean_absolute_error(pred_values, y)}')"
   ]
  },
  {
   "cell_type": "markdown",
   "metadata": {},
   "source": [
    "Теперь можно из двух колонок \"weight\" и \"height\" сделать одну - индекс массы тела, и на основе него расчитать среднюю ошибку"
   ]
  },
  {
   "cell_type": "code",
   "execution_count": 973,
   "metadata": {},
   "outputs": [],
   "source": [
    "df['body_index'] = df['weight'] / pow(df['height'] / 100, 2)"
   ]
  },
  {
   "cell_type": "code",
   "execution_count": 977,
   "metadata": {},
   "outputs": [],
   "source": [
    "x = df[['body_index']]\n",
    "y = df[target_label]"
   ]
  },
  {
   "cell_type": "code",
   "execution_count": 978,
   "metadata": {},
   "outputs": [
    {
     "name": "stdout",
     "output_type": "stream",
     "text": [
      "Weights: [-3.41199169e-06]\n",
      "Bias: 0.022046712076703223\n",
      "Error: 0.04264934854955377\n"
     ]
    }
   ],
   "source": [
    "model = LinearRegression().fit(x, y)\n",
    "print(f'Weights: {model.coef_}')\n",
    "print(f'Bias: {model.intercept_}')\n",
    "\n",
    "pred_values = model.predict(x)\n",
    "print(f'Error: {mean_absolute_error(pred_values, y)}')"
   ]
  },
  {
   "cell_type": "markdown",
   "metadata": {},
   "source": [
    "Вывод: ну шуточных данных изменения по средней ошибке не так сильно стали отличаться в подготовленных данных от полных, но после обработки мы можем провести сразу несколько разных исследований и проверить большее количество гипотез, чем раньше.\n",
    "\n",
    "Очень сильно помогает при подготовке датасета метод замены пустых данных и булевых/категориальных, чего не хватало на курсе по мат статистике.\n",
    "\n",
    "Я уверен, что в реальных датасетах с более-менее настоящими данными результат будет наиболее достоверный."
   ]
  }
 ],
 "metadata": {
  "kernelspec": {
   "display_name": "Python 3",
   "language": "python",
   "name": "python3"
  },
  "language_info": {
   "codemirror_mode": {
    "name": "ipython",
    "version": 3
   },
   "file_extension": ".py",
   "mimetype": "text/x-python",
   "name": "python",
   "nbconvert_exporter": "python",
   "pygments_lexer": "ipython3",
   "version": "3.7.4"
  }
 },
 "nbformat": 4,
 "nbformat_minor": 2
}
